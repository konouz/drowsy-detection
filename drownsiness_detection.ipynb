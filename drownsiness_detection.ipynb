{
 "cells": [
  {
   "cell_type": "markdown",
   "metadata": {},
   "source": [
    "# Drowsiness Detection OpenCV\n",
    "\n",
    "\n"
   ]
  },
  {
   "cell_type": "code",
   "execution_count": 1,
   "metadata": {},
   "outputs": [],
   "source": [
    "from scipy.spatial import distance\n",
    "from imutils import face_utils\n",
    "import time\n",
    "import imutils\n",
    "import dlib\n",
    "import cv2\n",
    "import socket\n",
    "\n",
    "server = socket.socket(socket.AF_INET, socket.SOCK_STREAM)\n",
    "server.bind(('localhost', 8089))\n",
    "server.listen(1)"
   ]
  },
  {
   "cell_type": "code",
   "execution_count": 2,
   "metadata": {},
   "outputs": [],
   "source": [
    "def eye_aspect_ratio(eye):\n",
    "\tA = distance.euclidean(eye[1], eye[5])\n",
    "\tB = distance.euclidean(eye[2], eye[4])\n",
    "\tC = distance.euclidean(eye[0], eye[3])\n",
    "\tear = (A + B) / (2.0 * C)\n",
    "\treturn ear"
   ]
  },
  {
   "cell_type": "code",
   "execution_count": 3,
   "metadata": {},
   "outputs": [],
   "source": [
    "thresh = 0.25\n",
    "frame_check = 20\n",
    "detect = dlib.get_frontal_face_detector()\n",
    "predict = dlib.shape_predictor(\"shape_predictor_68_face_landmarks.dat\")"
   ]
  },
  {
   "cell_type": "code",
   "execution_count": 4,
   "metadata": {},
   "outputs": [],
   "source": [
    "(lStart, lEnd) = face_utils.FACIAL_LANDMARKS_IDXS[\"left_eye\"]\n",
    "(rStart, rEnd) = face_utils.FACIAL_LANDMARKS_IDXS[\"right_eye\"]"
   ]
  },
  {
   "cell_type": "code",
   "execution_count": null,
   "metadata": {},
   "outputs": [],
   "source": [
    "cap=cv2.VideoCapture(0)\n",
    "flag=0\n",
    "conn, addr = server.accept()\n",
    "cmnd = conn.recv(5) \n",
    "print(cmnd)\n",
    "while True:\n",
    " # The default size of the command packet is 4 bytes\n",
    "\tret, frame=cap.read() #بيرجع قيمة بوليانية (True/False). \n",
    "    #If frame is read correctly, it will be True. So you can check end of the video by checking this return value.\n",
    "\tframe = imutils.resize(frame, width=450)\n",
    "\tgray = cv2.cvtColor(frame, cv2.COLOR_BGR2GRAY)\n",
    "\tsubjects = detect(gray, 0) #دورلي عل الوجوه بالصورة (الاطار)\n",
    "\tfor subject in subjects: #عم يلقط أكتر من وجه \n",
    "\t\tshape = predict(gray, subject)\n",
    "\t\tshape = face_utils.shape_to_np(shape)#converting to NumPy Array\n",
    "\t\tleftEye = shape[lStart:lEnd] #مصفوفة من بداية العين اليسار إلى نهايتها \n",
    "\t\trightEye = shape[rStart:rEnd] #مصفوفة من بداية العين اليمين الى نهايتها \n",
    "\t\tleftEAR = eye_aspect_ratio(leftEye) #نسبة ارتفاع العين اليسرى \n",
    "\t\trightEAR = eye_aspect_ratio(rightEye) #نسبة ارتفاع العين اليمنى\n",
    "\t\tear = (leftEAR + rightEAR) / 2.0 #المتوسط الحسابي لمجموع النسبتين \n",
    "\t\tleftEyeHull = cv2.convexHull(leftEye)# يقوم بفحص منحنى لعيوب التحدب وتصحيحها\n",
    "\t\trightEyeHull = cv2.convexHull(rightEye)\n",
    "\t\tif ear < thresh:#اذا كانت نسبة ارتفاع العين اصغر من العتبة يلي هي 0.25\n",
    "\t\t\tflag += 1\n",
    "\t\t\tif flag >= frame_check:#اذا العداد عدد الفريمات يلي نسبة ارتفاع العين اقل من العتبة هو اقل من عتبة عدد الفريمات 20\n",
    "\t\t\t\tconn.sendall(b'drows')\n",
    "\t\t\t\tprint ('drows')\n",
    "\t\t\t\ttime.sleep(1)\n",
    "\t\telse:\n",
    "\t\t\tconn.sendall(b'Awake')\n",
    "\t\t\tprint ('AWake')\n",
    "\t\t\tflag = 0   \n",
    "\t\t\ttime.sleep(1)\n",
    "\tkey = cv2.waitKey(1) & 0xFF\n",
    "\tif key == ord(\"q\"):\n",
    "\t\tcv2.destroyAllWindows()\n",
    "\t\tcap.release()\n",
    "\t\tbreak\n"
   ]
  },
  {
   "cell_type": "code",
   "execution_count": null,
   "metadata": {},
   "outputs": [],
   "source": [
    "#Error 56 occurred at TCP Read in LVClient2011.vi\n",
    "#LabVIEW: (Hex 0x38) The network operation exceeded the user-specified or system time limit."
   ]
  }
 ],
 "metadata": {
  "kernelspec": {
   "display_name": "Python 3",
   "language": "python",
   "name": "python3"
  },
  "language_info": {
   "codemirror_mode": {
    "name": "ipython",
    "version": 3
   },
   "file_extension": ".py",
   "mimetype": "text/x-python",
   "name": "python",
   "nbconvert_exporter": "python",
   "pygments_lexer": "ipython3",
   "version": "3.6.4"
  }
 },
 "nbformat": 4,
 "nbformat_minor": 2
}
